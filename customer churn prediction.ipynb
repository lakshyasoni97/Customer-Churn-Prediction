{
 "cells": [
  {
   "cell_type": "markdown",
   "id": "bb1479b8",
   "metadata": {},
   "source": [
    "## Final Exam"
   ]
  },
  {
   "cell_type": "code",
   "execution_count": 361,
   "id": "f9b7a740",
   "metadata": {},
   "outputs": [],
   "source": [
    "import numpy as np\n",
    "import os\n",
    "import pandas as pd\n",
    "import matplotlib.pyplot as plt\n",
    "import seaborn as sns\n",
    "import statistics as stat\n",
    "import scipy.stats as stats\n",
    "import statsmodels. formula. api as smf\n",
    "import statsmodels.api as sm\n",
    "from sklearn.model_selection import train_test_split\n",
    "from sklearn.linear_model import LinearRegression\n",
    "from sklearn.linear_model import LinearRegression\n",
    "from sklearn.preprocessing import MinMaxScaler, StandardScaler, OneHotEncoder\n",
    "from math import sqrt\n",
    "from sklearn.metrics import mean_squared_error\n",
    "df = pd.read_csv ('Lakshya+Soni.csv')"
   ]
  },
  {
   "cell_type": "code",
   "execution_count": 218,
   "id": "598a59cb",
   "metadata": {},
   "outputs": [],
   "source": [
    "# defining some standard functions\n",
    "def describe_stat (table_name,col_name):\n",
    "    return (table_name[col_name].describe())\n",
    "def standard_deviation (table_name,col_name):\n",
    "    return np.std(table_name[col_name])\n",
    "def variance (table_name,col_name):\n",
    "    return np.var(table_name[col_name])\n",
    "def mean (table_name,col_name):\n",
    "    return np.mean(table_name[col_name])"
   ]
  },
  {
   "cell_type": "markdown",
   "id": "75a8cdc4",
   "metadata": {},
   "source": [
    "**Q1) (a) The team becomes interested in the number of subjects that recharge across several days after plan expires. After an exploratory data analysis which includes drawing the observed histogram of the data, discuss a theoretical distribution that could be used to model such data.**"
   ]
  },
  {
   "cell_type": "code",
   "execution_count": 147,
   "id": "03c1eba3",
   "metadata": {},
   "outputs": [],
   "source": [
    "df_late_recharge = df [ df['avg_days_bw_rchg_and_expiry'] > 0]"
   ]
  },
  {
   "cell_type": "code",
   "execution_count": 148,
   "id": "f7c4e618",
   "metadata": {},
   "outputs": [
    {
     "data": {
      "text/plain": [
       "count    473.000000\n",
       "mean       1.905671\n",
       "std        1.730303\n",
       "min        0.000132\n",
       "25%        0.557259\n",
       "50%        1.458850\n",
       "75%        2.720761\n",
       "max       10.087773\n",
       "Name: avg_days_bw_rchg_and_expiry, dtype: float64"
      ]
     },
     "execution_count": 148,
     "metadata": {},
     "output_type": "execute_result"
    }
   ],
   "source": [
    "describe_stat (df_late_recharge,'avg_days_bw_rchg_and_expiry')"
   ]
  },
  {
   "cell_type": "code",
   "execution_count": 288,
   "id": "d459f40b",
   "metadata": {
    "scrolled": true
   },
   "outputs": [
    {
     "data": {
      "text/plain": [
       "<AxesSubplot:xlabel='avg_days_bw_rchg_and_expiry', ylabel='Count'>"
      ]
     },
     "execution_count": 288,
     "metadata": {},
     "output_type": "execute_result"
    },
    {
     "data": {
      "image/png": "[encoded data removed]",
      "text/plain": [
       "<Figure size 432x288 with 1 Axes>"
      ]
     },
     "metadata": {
      "needs_background": "light"
     },
     "output_type": "display_data"
    }
   ],
   "source": [
    "sns.histplot(data=df_late_recharge, x=\"avg_days_bw_rchg_and_expiry\", bins=30, kde = True)"
   ]
  },
  {
   "cell_type": "markdown",
   "id": "17a4a74c",
   "metadata": {},
   "source": [
    "The theoretical distribution for the sample with 'avg_days_bw_rchg_and_expiry' greater than zero, the histogram seems to follow Exponential Distribution."
   ]
  },
  {
   "cell_type": "markdown",
   "id": "89e5d34f",
   "metadata": {},
   "source": [
    "**Q1) (b) Find the point estimate and 95% confidence interval for the values of the parameters that provide the best fit to the observed data.**"
   ]
  },
  {
   "cell_type": "code",
   "execution_count": 166,
   "id": "ceb0adb8",
   "metadata": {},
   "outputs": [
    {
     "name": "stdout",
     "output_type": "stream",
     "text": [
      "Variance of the distribution is 2.9876192771089856\n",
      "Mean of the distribution is 1.905670743559139\n",
      "Confidence Interval for the mean is (1.907682883388885, 2.198845463952018)\n"
     ]
    },
    {
     "data": {
      "text/plain": [
       "count    473.000000\n",
       "mean       1.905671\n",
       "std        1.730303\n",
       "min        0.000132\n",
       "25%        0.557259\n",
       "50%        1.458850\n",
       "75%        2.720761\n",
       "max       10.087773\n",
       "Name: avg_days_bw_rchg_and_expiry, dtype: float64"
      ]
     },
     "execution_count": 166,
     "metadata": {},
     "output_type": "execute_result"
    }
   ],
   "source": [
    "print (f\"Variance of the distribution is {variance(df_late_recharge, 'avg_days_bw_rchg_and_expiry')}\")\n",
    "print (f\"Mean of the distribution is {mean(df_late_recharge, 'avg_days_bw_rchg_and_expiry')}\")\n",
    "N_1b = df_late_recharge['avg_days_bw_rchg_and_expiry'].count()\n",
    "Confidence_1b=stats.expon.interval(0.95,loc=mean(df_late_recharge, 'avg_days_bw_rchg_and_expiry'),scale=standard_deviation(df_late_recharge, 'avg_days_bw_rchg_and_expiry')/np.sqrt(N_1b))\n",
    "print (f\"Confidence Interval for the mean is {Confidence_1b}\")\n",
    "describe_stat(df_late_recharge, 'avg_days_bw_rchg_and_expiry')"
   ]
  },
  {
   "cell_type": "markdown",
   "id": "9900ab67",
   "metadata": {},
   "source": [
    "**Q1) (c) Is is customary in the industry to consider the top x percentile of the customers with delayed recharge as churners. Different companies may consider different values of x as they feel appropriate, based on the observed data and related inference. Therefore, typically, the value of x is chosen to be between 10 and 40. Suggest a value of x that the company should use to define the churners.**"
   ]
  },
  {
   "cell_type": "code",
   "execution_count": 13,
   "id": "cff1f5b9",
   "metadata": {},
   "outputs": [],
   "source": [
    "df_recharge_delay = df [ df['recharge_delay'] > 0] # this describes how many days have passed since last recharge"
   ]
  },
  {
   "cell_type": "markdown",
   "id": "9851201b",
   "metadata": {},
   "source": [
    "Here while deriving the percentile i have considered only those who have recharge delay greater than zero, such that there are no one in the table who recharge on time."
   ]
  },
  {
   "cell_type": "code",
   "execution_count": 290,
   "id": "f56a5250",
   "metadata": {},
   "outputs": [
    {
     "data": {
      "text/plain": [
       "count    489.000000\n",
       "mean       5.426429\n",
       "std        4.601452\n",
       "min        0.002917\n",
       "25%        1.877312\n",
       "50%        3.977748\n",
       "75%        7.754481\n",
       "max       24.703020\n",
       "Name: recharge_delay, dtype: float64"
      ]
     },
     "execution_count": 290,
     "metadata": {},
     "output_type": "execute_result"
    }
   ],
   "source": [
    "describe_stat(df_recharge_delay,'recharge_delay')\n",
    "# Following is the overview details of all the customers who have not recharged on time."
   ]
  },
  {
   "cell_type": "code",
   "execution_count": 295,
   "id": "5da6c3f8",
   "metadata": {},
   "outputs": [
    {
     "data": {
      "text/html": [
       "<div>\n",
       "<style scoped>\n",
       "    .dataframe tbody tr th:only-of-type {\n",
       "        vertical-align: middle;\n",
       "    }\n",
       "\n",
       "    .dataframe tbody tr th {\n",
       "        vertical-align: top;\n",
       "    }\n",
       "\n",
       "    .dataframe thead th {\n",
       "        text-align: right;\n",
       "    }\n",
       "</style>\n",
       "<table border=\"1\" class=\"dataframe\">\n",
       "  <thead>\n",
       "    <tr style=\"text-align: right;\">\n",
       "      <th></th>\n",
       "      <th>customer_id</th>\n",
       "      <th>ownership</th>\n",
       "      <th>activation_plan_code</th>\n",
       "      <th>mnp_flag</th>\n",
       "      <th>calls_incoming_cnt</th>\n",
       "      <th>calls_outgoing_cnt</th>\n",
       "      <th>calls_incoming_duration</th>\n",
       "      <th>calls_outgoing_duration</th>\n",
       "      <th>total_call_count</th>\n",
       "      <th>total_sum_duration</th>\n",
       "      <th>...</th>\n",
       "      <th>current_active_plan_validity</th>\n",
       "      <th>last_cycle_plan_mrp</th>\n",
       "      <th>last_cycle_plan_validity</th>\n",
       "      <th>avg_days_bw_rchg_and_expiry</th>\n",
       "      <th>stddev_days_bw_rchg_and_expiry</th>\n",
       "      <th>price_per_day</th>\n",
       "      <th>gb_per_day_quota</th>\n",
       "      <th>pcnt_quota_used</th>\n",
       "      <th>device_avg_asp</th>\n",
       "      <th>recharge_delay</th>\n",
       "    </tr>\n",
       "  </thead>\n",
       "  <tbody>\n",
       "    <tr>\n",
       "      <th>754</th>\n",
       "      <td>10754</td>\n",
       "      <td>individual</td>\n",
       "      <td>9</td>\n",
       "      <td>1</td>\n",
       "      <td>6.0</td>\n",
       "      <td>67.0</td>\n",
       "      <td>6.963906</td>\n",
       "      <td>71.251195</td>\n",
       "      <td>73.0</td>\n",
       "      <td>78.215101</td>\n",
       "      <td>...</td>\n",
       "      <td>90</td>\n",
       "      <td>999</td>\n",
       "      <td>180</td>\n",
       "      <td>-3.971376</td>\n",
       "      <td>7.679336</td>\n",
       "      <td>3.333333</td>\n",
       "      <td>1.5</td>\n",
       "      <td>4.262020</td>\n",
       "      <td>less_10K</td>\n",
       "      <td>24.703020</td>\n",
       "    </tr>\n",
       "    <tr>\n",
       "      <th>837</th>\n",
       "      <td>10837</td>\n",
       "      <td>individual</td>\n",
       "      <td>9</td>\n",
       "      <td>0</td>\n",
       "      <td>2.0</td>\n",
       "      <td>9.0</td>\n",
       "      <td>2.459496</td>\n",
       "      <td>16.082412</td>\n",
       "      <td>11.0</td>\n",
       "      <td>18.541908</td>\n",
       "      <td>...</td>\n",
       "      <td>15</td>\n",
       "      <td>999</td>\n",
       "      <td>180</td>\n",
       "      <td>1.644881</td>\n",
       "      <td>7.495653</td>\n",
       "      <td>6.600000</td>\n",
       "      <td>0.5</td>\n",
       "      <td>16.057882</td>\n",
       "      <td>10K_to_20K</td>\n",
       "      <td>23.445544</td>\n",
       "    </tr>\n",
       "    <tr>\n",
       "      <th>921</th>\n",
       "      <td>10921</td>\n",
       "      <td>corporate</td>\n",
       "      <td>9</td>\n",
       "      <td>0</td>\n",
       "      <td>6.0</td>\n",
       "      <td>16.0</td>\n",
       "      <td>8.951579</td>\n",
       "      <td>25.596457</td>\n",
       "      <td>22.0</td>\n",
       "      <td>34.548035</td>\n",
       "      <td>...</td>\n",
       "      <td>90</td>\n",
       "      <td>500</td>\n",
       "      <td>120</td>\n",
       "      <td>0.114817</td>\n",
       "      <td>2.518581</td>\n",
       "      <td>3.333333</td>\n",
       "      <td>1.5</td>\n",
       "      <td>9.733570</td>\n",
       "      <td>50K_above</td>\n",
       "      <td>21.483032</td>\n",
       "    </tr>\n",
       "    <tr>\n",
       "      <th>433</th>\n",
       "      <td>10433</td>\n",
       "      <td>corporate</td>\n",
       "      <td>9</td>\n",
       "      <td>1</td>\n",
       "      <td>6.0</td>\n",
       "      <td>82.0</td>\n",
       "      <td>7.583596</td>\n",
       "      <td>131.583108</td>\n",
       "      <td>88.0</td>\n",
       "      <td>139.166704</td>\n",
       "      <td>...</td>\n",
       "      <td>90</td>\n",
       "      <td>128</td>\n",
       "      <td>28</td>\n",
       "      <td>2.009049</td>\n",
       "      <td>3.762413</td>\n",
       "      <td>3.333333</td>\n",
       "      <td>1.5</td>\n",
       "      <td>1.853996</td>\n",
       "      <td>20K_to_30K</td>\n",
       "      <td>18.496647</td>\n",
       "    </tr>\n",
       "    <tr>\n",
       "      <th>140</th>\n",
       "      <td>10140</td>\n",
       "      <td>corporate</td>\n",
       "      <td>9</td>\n",
       "      <td>0</td>\n",
       "      <td>114.0</td>\n",
       "      <td>34.0</td>\n",
       "      <td>125.649330</td>\n",
       "      <td>43.779123</td>\n",
       "      <td>148.0</td>\n",
       "      <td>169.428453</td>\n",
       "      <td>...</td>\n",
       "      <td>365</td>\n",
       "      <td>128</td>\n",
       "      <td>28</td>\n",
       "      <td>1.564667</td>\n",
       "      <td>4.412855</td>\n",
       "      <td>4.109589</td>\n",
       "      <td>3.0</td>\n",
       "      <td>1.339619</td>\n",
       "      <td>50K_above</td>\n",
       "      <td>18.467326</td>\n",
       "    </tr>\n",
       "  </tbody>\n",
       "</table>\n",
       "<p>5 rows × 47 columns</p>\n",
       "</div>"
      ],
      "text/plain": [
       "     customer_id   ownership  activation_plan_code  mnp_flag  \\\n",
       "754        10754  individual                     9         1   \n",
       "837        10837  individual                     9         0   \n",
       "921        10921   corporate                     9         0   \n",
       "433        10433   corporate                     9         1   \n",
       "140        10140   corporate                     9         0   \n",
       "\n",
       "     calls_incoming_cnt  calls_outgoing_cnt  calls_incoming_duration  \\\n",
       "754                 6.0                67.0                 6.963906   \n",
       "837                 2.0                 9.0                 2.459496   \n",
       "921                 6.0                16.0                 8.951579   \n",
       "433                 6.0                82.0                 7.583596   \n",
       "140               114.0                34.0               125.649330   \n",
       "\n",
       "     calls_outgoing_duration  total_call_count  total_sum_duration  ...  \\\n",
       "754                71.251195              73.0           78.215101  ...   \n",
       "837                16.082412              11.0           18.541908  ...   \n",
       "921                25.596457              22.0           34.548035  ...   \n",
       "433               131.583108              88.0          139.166704  ...   \n",
       "140                43.779123             148.0          169.428453  ...   \n",
       "\n",
       "     current_active_plan_validity  last_cycle_plan_mrp  \\\n",
       "754                            90                  999   \n",
       "837                            15                  999   \n",
       "921                            90                  500   \n",
       "433                            90                  128   \n",
       "140                           365                  128   \n",
       "\n",
       "     last_cycle_plan_validity  avg_days_bw_rchg_and_expiry  \\\n",
       "754                       180                    -3.971376   \n",
       "837                       180                     1.644881   \n",
       "921                       120                     0.114817   \n",
       "433                        28                     2.009049   \n",
       "140                        28                     1.564667   \n",
       "\n",
       "     stddev_days_bw_rchg_and_expiry  price_per_day  gb_per_day_quota  \\\n",
       "754                        7.679336       3.333333               1.5   \n",
       "837                        7.495653       6.600000               0.5   \n",
       "921                        2.518581       3.333333               1.5   \n",
       "433                        3.762413       3.333333               1.5   \n",
       "140                        4.412855       4.109589               3.0   \n",
       "\n",
       "     pcnt_quota_used  device_avg_asp  recharge_delay  \n",
       "754         4.262020        less_10K       24.703020  \n",
       "837        16.057882      10K_to_20K       23.445544  \n",
       "921         9.733570       50K_above       21.483032  \n",
       "433         1.853996      20K_to_30K       18.496647  \n",
       "140         1.339619       50K_above       18.467326  \n",
       "\n",
       "[5 rows x 47 columns]"
      ]
     },
     "execution_count": 295,
     "metadata": {},
     "output_type": "execute_result"
    }
   ],
   "source": [
    "df_recharge_delay_desc = df_recharge_delay.sort_values(by=['recharge_delay'], ascending=False)\n",
    "df_recharge_delay_desc.head() # gives the details of top 5 customers who have not recharged on time."
   ]
  },
  {
   "cell_type": "code",
   "execution_count": 165,
   "id": "4d240d07",
   "metadata": {},
   "outputs": [
    {
     "data": {
      "image/png": "[encoded data removed]",
      "text/plain": [
       "<Figure size 432x288 with 1 Axes>"
      ]
     },
     "metadata": {
      "needs_background": "light"
     },
     "output_type": "display_data"
    }
   ],
   "source": [
    "sns.boxplot(x=\"recharge_delay\",data=df_recharge_delay_desc).invert_xaxis()\n",
    "# Following is the box plot depicting the distribution of all those who have not recharged on time.\n",
    "# It can be observed while looking at the box plot that there are certain number of outliers."
   ]
  },
  {
   "cell_type": "code",
   "execution_count": 274,
   "id": "83438418",
   "metadata": {},
   "outputs": [
    {
     "data": {
      "text/plain": [
       "<AxesSubplot:xlabel='recharge_delay', ylabel='Count'>"
      ]
     },
     "execution_count": 274,
     "metadata": {},
     "output_type": "execute_result"
    },
    {
     "data": {
      "image/png": "[encoded data removed]",
      "text/plain": [
       "<Figure size 432x288 with 1 Axes>"
      ]
     },
     "metadata": {
      "needs_background": "light"
     },
     "output_type": "display_data"
    }
   ],
   "source": [
    "sns.histplot(data=df_recharge_delay, x=\"recharge_delay\", bins=30, kde = True)\n",
    "# The below histogram gives another perspective on how the sample is ditributed. "
   ]
  },
  {
   "cell_type": "markdown",
   "id": "94c05dfb",
   "metadata": {},
   "source": [
    "Here, according to me a person having recharge delay of more than **13 days** is more likely to churn out."
   ]
  },
  {
   "cell_type": "markdown",
   "id": "5940830d",
   "metadata": {},
   "source": [
    "## Question 2"
   ]
  },
  {
   "cell_type": "markdown",
   "id": "b3a541fe",
   "metadata": {},
   "source": [
    "**a) Customers who are not ready to forego their phone numbers (mnp_flag=1) recharge earlier than the rest.**"
   ]
  },
  {
   "cell_type": "markdown",
   "id": "e351fc7f",
   "metadata": {},
   "source": [
    "Null Hypothesis: Customers who are not ready to forego their phone numbers recharge at the same time as rest of the customers. \\\n",
    "Null Hypothesis: mean of flag 0 = mean of flag 1 \\\n",
    "Alternate Hypothesis: Customers who are not ready to forego their phone numbers recharge earlier than the rest of the customers. \\\n",
    "Alternate Hypothesis: mean of flag 0 > mean of flag 1\n"
   ]
  },
  {
   "cell_type": "code",
   "execution_count": 43,
   "id": "58b3b637",
   "metadata": {},
   "outputs": [],
   "source": [
    "mnp_flag_0 = df [ df['mnp_flag'] == 0]\n",
    "mnp_flag_1 = df [ df['mnp_flag'] == 1]"
   ]
  },
  {
   "cell_type": "code",
   "execution_count": 296,
   "id": "517f3518",
   "metadata": {},
   "outputs": [
    {
     "name": "stdout",
     "output_type": "stream",
     "text": [
      "-0.05063578204599555 -0.10824119223730148\n"
     ]
    }
   ],
   "source": [
    "mnp_flag_0_var = variance(mnp_flag_0,'avg_days_bw_rchg_and_expiry') \n",
    "mnp_flag_1_var = variance(mnp_flag_1,'avg_days_bw_rchg_and_expiry')\n",
    "mnp_flag_1_mean = mean(mnp_flag_1,'avg_days_bw_rchg_and_expiry')\n",
    "mnp_flag_0_mean = mean(mnp_flag_0,'avg_days_bw_rchg_and_expiry')\n",
    "N1 = mnp_flag_1['avg_days_bw_rchg_and_expiry'].count()\n",
    "N0 = mnp_flag_0['avg_days_bw_rchg_and_expiry'].count()\n",
    "alpha = 0.05\n",
    "nu = N0+N1-2 # Degree of freedom"
   ]
  },
  {
   "cell_type": "code",
   "execution_count": 172,
   "id": "7afd556f",
   "metadata": {},
   "outputs": [],
   "source": [
    "var_ratio = mnp_flag_0_var/mnp_flag_1_var\n",
    "# since the var_ratio is less than 4, therefore the below formula can be applied directly\n",
    "T_value_a = (mnp_flag_0_mean-mnp_flag_1_mean)/((mnp_flag_0_var/N0)+(mnp_flag_1_var/N1))**0.5\n",
    "t = stats.t.ppf(1-alpha, nu)"
   ]
  },
  {
   "cell_type": "code",
   "execution_count": 185,
   "id": "b0681dbc",
   "metadata": {},
   "outputs": [
    {
     "data": {
      "text/plain": [
       "<AxesSubplot:xlabel='mnp_flag', ylabel='avg_days_bw_rchg_and_expiry'>"
      ]
     },
     "execution_count": 185,
     "metadata": {},
     "output_type": "execute_result"
    },
    {
     "data": {
      "image/png": "[encoded data removed]",
      "text/plain": [
       "<Figure size 432x288 with 1 Axes>"
      ]
     },
     "metadata": {
      "needs_background": "light"
     },
     "output_type": "display_data"
    }
   ],
   "source": [
    "sns.boxplot(x=\"mnp_flag\",y=\"avg_days_bw_rchg_and_expiry\",data=df)"
   ]
  },
  {
   "cell_type": "code",
   "execution_count": 173,
   "id": "bd1f7026",
   "metadata": {},
   "outputs": [
    {
     "name": "stdout",
     "output_type": "stream",
     "text": [
      "Fail to reject Null Hypothesis\n"
     ]
    }
   ],
   "source": [
    "if T_value_a > t:\n",
    "    print ('Null Hypothesis is rejected')\n",
    "else:\n",
    "    print ('Fail to reject Null Hypothesis')"
   ]
  },
  {
   "cell_type": "markdown",
   "id": "15c3955f",
   "metadata": {},
   "source": [
    "After conducting the Hypothesis Testing (two sample t-test) it is observed that the loyalty to the mobile number is not affecting the recharging pattern of a customer."
   ]
  },
  {
   "cell_type": "markdown",
   "id": "6d5f40d1",
   "metadata": {},
   "source": [
    "**Q-2) (b) Committed customers (customers with current plan validity more than last cycle plan validity) recharge earlier than the rest.**"
   ]
  },
  {
   "cell_type": "markdown",
   "id": "4bf2b546",
   "metadata": {},
   "source": [
    "Null Hypothesis: Committed customers recharge at the same time as rest of the customers. \\\n",
    "Null Hypothesis: mean of committed customers = mean of rest \\\n",
    "Alternate Hypothesis: Committed customers recharge earlier than the rest of the customers. \\\n",
    "Alternate Hypothesis: mean of rest > mean of committed customers "
   ]
  },
  {
   "cell_type": "code",
   "execution_count": 109,
   "id": "067e13a1",
   "metadata": {},
   "outputs": [],
   "source": [
    "committed_complement = df [ df['current_active_plan_validity'] < df['last_cycle_plan_validity']]\n",
    "committed = df[df['current_active_plan_validity'] > df['last_cycle_plan_validity']]"
   ]
  },
  {
   "cell_type": "code",
   "execution_count": 174,
   "id": "be267970",
   "metadata": {},
   "outputs": [],
   "source": [
    "committed_complement_var = variance(committed_complement,'avg_days_bw_rchg_and_expiry')\n",
    "committed_var = variance(committed,'avg_days_bw_rchg_and_expiry')\n",
    "committed_mean = mean(committed,'avg_days_bw_rchg_and_expiry')\n",
    "committed_complement_mean = mean(committed_complement,'avg_days_bw_rchg_and_expiry')\n",
    "N1_b = committed['avg_days_bw_rchg_and_expiry'].count()\n",
    "N0_b = committed_complement['avg_days_bw_rchg_and_expiry'].count()\n",
    "alpha = 0.05\n",
    "nu = N0_b+N1_b-2 # Degree of freedom"
   ]
  },
  {
   "cell_type": "code",
   "execution_count": 175,
   "id": "66af5320",
   "metadata": {},
   "outputs": [],
   "source": [
    "var_ratio = committed_complement_var/committed_var\n",
    "# since the var_ratio is less than 4, therefore the below formula can be applied directly\n",
    "T_value_b = (committed_complement_mean-committed_mean)/((committed_complement_var/N0_b)+(committed_var/N1_b))**0.5\n",
    "t = stats.t.ppf(1-alpha, nu)"
   ]
  },
  {
   "cell_type": "code",
   "execution_count": 176,
   "id": "b73a28b3",
   "metadata": {},
   "outputs": [
    {
     "name": "stdout",
     "output_type": "stream",
     "text": [
      "Fail to reject Null Hypothesis\n"
     ]
    }
   ],
   "source": [
    "if T_value_b > t:\n",
    "    print ('Null Hypothesis is rejected')\n",
    "else:\n",
    "    print ('Fail to reject Null Hypothesis')"
   ]
  },
  {
   "cell_type": "markdown",
   "id": "de3d3cb0",
   "metadata": {},
   "source": [
    "After conducting the Hypothesis test (two sample t-test) it is observed that whether a customer is committed or not, generally does not affect his/her recharge behaiour."
   ]
  },
  {
   "cell_type": "markdown",
   "id": "e620d009",
   "metadata": {},
   "source": [
    "**Q-2) (c) Customers who are not ready to forego their phone numbers (mnp_flag=1) show better engagement (tot_usage_mb and total_sum_duration).**"
   ]
  },
  {
   "cell_type": "markdown",
   "id": "e82dbd98",
   "metadata": {},
   "source": [
    "Null Hypothesis: Customers who are not ready to forego their phone numbers show same engagement as rest of the customers. \\\n",
    "Null Hypothesis: mean of flag 0 = mean of flag 1 \\\n",
    "Alternate Hypothesis: Customers who are not ready to forego their phone numbers show better engagement than the rest of the customers. \\\n",
    "Alternate Hypothesis: mean of flag 1 > mean of flag 0"
   ]
  },
  {
   "cell_type": "code",
   "execution_count": 178,
   "id": "dbe13895",
   "metadata": {},
   "outputs": [
    {
     "data": {
      "text/plain": [
       "array([0.39968554, 0.12520511, 0.1252431 , 0.7669365 , 0.51968915,\n",
       "       0.20696281, 0.37815691, 0.22132202, 0.40133859, 0.09830007,\n",
       "       0.53161892, 0.41541308, 0.21154141, 0.2511323 , 0.76794051,\n",
       "       0.23695035, 0.19856843, 0.23375129, 0.38072357, 0.62248205,\n",
       "       0.87815489, 0.12626722, 0.12246014, 0.25833069, 0.29673822,\n",
       "       0.69458149, 0.51744397, 0.53699454, 0.07689721, 0.33808259,\n",
       "       0.69152296, 0.40976894, 0.20123614, 0.12990073, 0.35652938,\n",
       "       0.58392946, 0.43700748, 0.31119261, 0.33255287, 0.36756932,\n",
       "       0.49201485, 0.28782034, 0.64179218, 0.43035825, 0.33992762,\n",
       "       0.1277748 , 0.2543286 , 0.46710528, 0.32371737, 0.22572901,\n",
       "       0.19675594, 0.1189638 , 0.47291445, 0.31428789, 0.33816354,\n",
       "       0.19097559, 0.26328476, 0.34612346, 0.64749022, 0.29533142,\n",
       "       0.24173468, 0.210356  , 0.70426483, 0.52154094, 0.51038906,\n",
       "       0.5800533 , 0.5103522 , 0.35723249, 0.3883705 , 0.10928483,\n",
       "       0.22207233, 0.38164403, 0.47644211, 0.3761163 , 0.66350524,\n",
       "       0.31763451, 0.12711647, 0.1214225 , 0.23734521, 0.28445467,\n",
       "       0.41835511, 0.43808436, 0.30027676, 0.44573237, 0.26578548,\n",
       "       0.25910049, 0.20400183, 0.35075579, 0.85539319, 0.34392151,\n",
       "       0.29897447, 0.19414697, 0.69606344, 0.63924794, 0.42880617,\n",
       "       0.44048017, 0.40260954, 0.39670842, 0.69853909, 0.56256362,\n",
       "       0.77646019, 0.66126113, 0.33777383, 0.17766285, 0.67096564,\n",
       "       0.13891489, 0.50213841, 0.34249996, 0.24284483, 0.80542686,\n",
       "       0.92963777, 0.22243469, 0.10383278, 0.23738479, 0.27305619,\n",
       "       0.31609938, 0.24473749, 0.10286033, 0.37970907, 0.65250099,\n",
       "       0.11973647, 0.45848067, 0.25480009, 0.30719867, 0.25662465,\n",
       "       0.14859338, 0.6215818 , 0.63598192, 0.62423798, 0.44046608,\n",
       "       0.81410308, 0.08641006, 0.37365921, 0.89992005, 0.34742171,\n",
       "       0.22871828, 0.26221528, 0.48554577, 0.53092087, 1.00941635,\n",
       "       0.25119104, 0.36740877, 0.27729362, 0.3083943 , 0.23379409,\n",
       "       0.46070923, 0.2867846 , 0.2097302 , 0.59817195, 0.89558041,\n",
       "       0.2814564 , 0.30595267, 0.3798157 , 0.24485478, 0.32916868,\n",
       "       0.46860241, 0.63832294, 0.56265595, 0.05574396, 0.33443001,\n",
       "       0.40365087, 0.29712112, 0.50896212, 0.17703604, 0.39654389,\n",
       "       0.30523135, 0.32582099, 0.21845336, 0.76725754, 0.13013751,\n",
       "       0.23872723, 0.7546437 , 0.37713461, 0.26671583, 0.26643096,\n",
       "       0.3406037 , 0.16003173, 0.47673175, 0.45690124, 0.24242601,\n",
       "       0.3340044 , 0.36104398, 0.12740026, 0.29550812, 0.38498559,\n",
       "       0.59155364, 0.40411248, 0.42357231, 0.41868685, 0.41114727,\n",
       "       0.12184039, 0.26478352, 0.4464214 , 0.14305765, 0.28811883,\n",
       "       0.6530403 , 0.41589947, 0.42957279, 0.34067594, 0.42810937,\n",
       "       0.43636912, 0.53861353, 0.22345278, 0.30083559, 0.24295837,\n",
       "       0.34465521, 1.12168395, 0.25247244, 0.93556631, 0.40379792,\n",
       "       0.29017935, 0.82465646, 0.11936018, 0.44084296, 0.16904201,\n",
       "       0.57014528, 0.54816221, 0.17969808, 0.53990337, 0.30535675,\n",
       "       0.67610259, 0.51284127, 0.2907898 , 0.3574076 , 0.22986595,\n",
       "       0.20678156, 0.82526333, 0.23359928, 0.31118252, 0.11093722,\n",
       "       0.41402045, 1.03910605, 0.13766085, 0.8799629 , 0.27689552,\n",
       "       0.42369992, 0.23903782, 0.19222058, 0.31086354, 0.24028264,\n",
       "       0.21183244, 0.44809754, 0.44032085, 0.2610281 , 0.6460913 ,\n",
       "       0.3480865 , 0.38751952, 0.3934747 , 0.17344769, 0.55215224,\n",
       "       0.34557882, 0.51886329, 0.49833613, 0.33778777, 0.7042124 ,\n",
       "       0.17421338, 0.51057749, 0.39827223, 0.10401379, 0.24855026,\n",
       "       0.70248716, 0.40111831, 0.76067562, 0.27434807, 0.34731227,\n",
       "       0.22029286, 0.4434474 , 0.2369718 , 0.37884743, 0.27502978,\n",
       "       0.24841449, 0.1056475 , 0.57862962, 0.27963838, 0.33241623,\n",
       "       0.27106959, 0.4427345 , 0.10095237, 0.81011178, 0.2210554 ,\n",
       "       0.57376622, 0.41373974, 0.07481713, 0.21088161, 0.42038477,\n",
       "       0.61456925, 0.27049329, 0.38669399, 0.35399583, 0.38500429,\n",
       "       0.62285654, 0.24768749, 0.44204554, 0.27265812, 0.22866063,\n",
       "       0.28842067, 0.49785769, 0.16330469, 0.38618003, 0.23336992,\n",
       "       0.29182011, 0.09566836, 0.12419186, 0.31244123, 0.21389506,\n",
       "       0.3029179 , 0.29099465, 0.3777516 , 0.75020211, 0.25491755,\n",
       "       0.24676804, 0.07917226, 0.34533211, 0.31151504, 0.16598476,\n",
       "       0.51982532, 0.17648615, 0.16230287, 0.31704141, 0.20493568,\n",
       "       0.4285084 , 0.50226836, 0.54192396, 0.64435978, 0.34286846,\n",
       "       0.22552477, 0.77618268, 0.3262588 , 0.36777057, 0.2268422 ,\n",
       "       0.35194045, 0.52141348, 0.54094951, 0.66528915, 0.28173207,\n",
       "       0.20958202, 0.29291235, 0.15633248, 0.56606899, 0.40869514,\n",
       "       0.2956345 , 0.80317604, 0.42513895, 0.12901765, 0.29491966,\n",
       "       0.16761744, 0.32278541, 0.24373785, 0.37203091, 0.33210657,\n",
       "       0.17247063, 0.67942457, 0.28086757, 0.52724978, 0.17572461,\n",
       "       0.5387892 , 0.28559738, 0.12783819, 0.49433882, 0.48429921,\n",
       "       0.33616958, 0.19413092, 0.42360405, 1.01056317, 0.57571083,\n",
       "       0.46761888, 0.06559946, 0.64551742, 0.4769999 , 0.34353588,\n",
       "       0.41892132, 0.30336404, 0.56515767, 0.17774884, 0.48272635,\n",
       "       0.38018215, 0.33662382, 0.20162174, 0.29294502, 0.30216676,\n",
       "       0.25826779, 0.33367366, 0.03141697, 0.22208142, 0.61571701,\n",
       "       0.18793306, 0.26402968, 0.11613186, 0.15695141, 0.80846738,\n",
       "       0.1860811 , 0.45233759, 0.08745327, 0.7174381 , 0.43151887,\n",
       "       0.79509563, 0.374198  , 0.34450376, 0.04144035, 0.25393449,\n",
       "       0.61583877, 0.10176274, 0.53519382, 0.56592513, 0.28217291,\n",
       "       0.13419703, 0.56972576, 0.18017098, 0.23789837, 0.34937585,\n",
       "       0.15663343, 0.81894773, 0.74025443, 0.26235484, 0.69068962,\n",
       "       0.64093585, 0.0901834 , 0.37515174, 0.46824224, 0.14474997,\n",
       "       0.33325624, 0.38004879, 0.16790849, 0.22283597, 0.58807299,\n",
       "       0.13290731, 0.15532656, 0.61752283, 0.16982509, 0.26190972,\n",
       "       0.3836934 , 0.64592574, 0.65053067, 0.37766343, 0.31591878,\n",
       "       0.26943286, 0.67709671, 0.29858979, 0.23243362, 0.20646975,\n",
       "       0.18714494, 0.28716178, 0.24946853, 0.37911593, 0.34296681,\n",
       "       0.32309914, 0.23264645, 0.56424205, 0.46964184, 0.61491039,\n",
       "       0.90594918, 0.32448982, 0.30173508, 0.28863672, 0.25668937,\n",
       "       0.57929589, 0.44802923, 0.38865383, 0.20338404, 0.29954932,\n",
       "       0.24734841, 0.14478462, 0.63368573, 0.18547756, 0.27279455,\n",
       "       0.19843082, 0.41474589, 0.27854909, 0.27604178, 0.37040121,\n",
       "       0.40064987, 0.18860463, 0.24887655, 0.47275528, 0.3811951 ,\n",
       "       0.4944748 , 0.16399575, 0.18886559, 0.3763398 , 0.17167591,\n",
       "       0.14276463, 0.32671803, 0.3883486 , 0.39641551, 0.42161276,\n",
       "       0.42750989, 0.42833719, 0.49393222, 0.1908298 , 0.20035125,\n",
       "       0.71904766, 0.11833392, 0.17560911, 0.3296282 , 0.70364189,\n",
       "       0.20656012, 0.93306634, 0.13909899, 0.47825555, 0.28919253,\n",
       "       0.2977453 , 0.17455806, 0.33923033, 0.56680615, 0.75178186,\n",
       "       0.12151403, 0.13742967, 0.55284877, 0.55563603, 0.36548831,\n",
       "       0.29823191, 0.30844366, 0.32369602, 0.31319099, 1.04463927,\n",
       "       0.13728899, 0.2313016 , 0.36695616, 0.36629771, 0.40413569,\n",
       "       0.34667243, 0.53860129, 0.29141303, 0.36327995, 0.59162923,\n",
       "       0.15690124, 0.29830059, 0.22389865, 0.38315648, 0.52984572,\n",
       "       0.33623109, 0.30867191, 0.69387333, 0.71382846, 0.47709397,\n",
       "       0.21239644, 0.70853031, 0.24760111, 0.33009091, 0.66929454,\n",
       "       0.54087552, 0.87539004, 0.13171275, 0.20353558, 0.16770754,\n",
       "       0.88939647, 0.82602202, 0.36155743, 0.48635212, 0.25161763,\n",
       "       0.11354286, 0.12971672, 0.11540507, 0.2318629 , 0.23850335,\n",
       "       0.22553794, 0.62040631, 0.50301649, 0.2113717 , 0.72141531,\n",
       "       1.02000998, 0.23450283, 0.79811666, 0.19656938, 0.45842898,\n",
       "       0.05809734, 0.39227811, 0.33331534, 0.42536136, 0.49142732,\n",
       "       0.19942952, 0.3777314 , 0.42355531, 0.26288806, 0.62912814,\n",
       "       0.1669477 , 0.3837196 , 0.71371737, 0.13703009, 0.35443002,\n",
       "       0.37119687, 0.36518446, 0.41391606, 0.13799993, 0.13644098,\n",
       "       0.29289761, 0.33031337, 0.85980901, 0.31835875, 0.36544908,\n",
       "       0.20186615, 0.54265659, 0.30417894, 0.11777276, 0.25458521,\n",
       "       0.51675599, 0.0439335 , 0.29000844, 0.52643132, 0.32769375,\n",
       "       0.36836288, 0.49311253, 0.50953852, 0.13586517, 0.99155416,\n",
       "       0.55896922, 0.35504174, 0.53848802, 0.40833428, 0.30479951,\n",
       "       0.37322902, 1.01967549, 0.59414227, 0.48619397, 0.49563382,\n",
       "       0.48759744, 0.48824009, 0.25784901, 0.3050016 , 0.37404943,\n",
       "       0.53100793, 0.46092925, 0.06857139, 0.37185516, 0.1309495 ,\n",
       "       0.68182658, 0.32543645, 0.44103847, 0.14581389, 0.2906138 ,\n",
       "       0.5884222 , 0.48446635, 0.55052246, 0.10978844, 0.230543  ,\n",
       "       0.16632535, 0.12195541, 0.15071191, 0.77216459, 0.76478224,\n",
       "       0.39247596, 0.20450232, 0.69472921, 0.28723337, 0.51543809,\n",
       "       0.9117016 , 0.35993403, 0.21807263, 0.55980359, 0.43342749,\n",
       "       0.3942402 , 0.7218765 , 0.57041703, 0.74159378, 0.25310875,\n",
       "       0.48265901, 0.1977491 , 0.64521817, 0.37480251, 0.42753222,\n",
       "       0.24060576, 0.34428753, 0.18505858, 0.28732484, 0.97142786,\n",
       "       0.09864408, 0.2650048 , 0.31889732, 0.37451435, 0.15877855,\n",
       "       0.10992916, 0.54054749, 0.81306452, 0.66312061, 0.91577407,\n",
       "       0.16060733, 0.29373269, 0.15902694, 0.41668397, 1.13282863,\n",
       "       0.12261942, 0.16657619, 0.26239635, 0.10357287, 0.62007446,\n",
       "       0.38189875, 0.32514311, 0.21572848, 0.47122465, 0.5218226 ,\n",
       "       0.3386408 , 0.3992686 , 0.44045016, 0.27869648, 0.45234175,\n",
       "       0.46303303, 0.32795093, 0.35340831, 0.05717067, 0.38077435,\n",
       "       0.31821445, 0.25155172, 0.39507046, 0.76634488, 0.30439959,\n",
       "       0.3550342 , 0.2549178 , 0.40942222, 0.30668778, 0.85028857,\n",
       "       0.56930556, 0.45216247, 0.05705284, 0.21196154, 0.320566  ,\n",
       "       0.37702149, 0.49004576, 0.40343744, 0.64261231, 0.26744536,\n",
       "       0.91081415, 0.48067317, 0.37172335, 0.15003497, 0.51971016,\n",
       "       0.38491479, 0.275434  , 0.40090083, 0.17735972, 0.46282258,\n",
       "       0.19122635, 0.51773895, 0.40729176, 0.41396095, 0.24559308,\n",
       "       0.69090796, 0.4805418 , 0.31028251, 0.21968975, 0.10763769,\n",
       "       0.60935957, 0.30906376, 0.18486586, 0.20164198, 0.24853476,\n",
       "       0.29377649, 0.42316227, 0.10908792, 0.04690115, 0.19602048,\n",
       "       0.94118255, 0.75297837, 0.37935336, 0.61193657, 0.93442854,\n",
       "       0.24830252, 0.55138881, 0.50668585, 0.43843964, 0.10356246,\n",
       "       0.38593859, 0.17960539, 0.46631809, 0.2841641 , 0.43851319,\n",
       "       0.45441949, 0.28149234, 0.60727662, 0.86739896, 0.2960372 ,\n",
       "       0.43348856, 0.45770102, 0.7316071 , 0.32370409, 0.31851774,\n",
       "       0.16399678, 0.13645687, 0.20305494, 0.27022047, 0.3387107 ,\n",
       "       0.38674403, 0.10483121, 0.2485591 , 0.28450167, 0.44612943,\n",
       "       0.56016345, 0.37966659, 0.43572815, 0.34274781, 0.38769889,\n",
       "       0.1837825 , 0.51161356, 0.37607736, 0.40856882, 0.19654039,\n",
       "       0.48888018, 0.39740976, 0.28570389, 0.32913633, 0.2007815 ,\n",
       "       0.47815763, 0.29054009, 0.2981528 , 0.92163468, 0.47398285,\n",
       "       0.09261091, 0.03410058, 0.09644353, 0.41179473, 0.4244215 ,\n",
       "       0.2750467 , 0.71929269, 0.23372114, 0.83523418, 0.39141045,\n",
       "       0.33193069, 0.22965441, 0.10138034, 1.10778778, 0.59014324,\n",
       "       0.5384681 , 0.51473679, 0.37212529, 0.58102571, 0.29586173,\n",
       "       0.20752996, 0.24215718, 0.38828658, 0.11594662, 0.62771564,\n",
       "       0.45156951, 0.53229649, 0.38140811, 0.35324735, 0.50452355,\n",
       "       0.24853828, 0.16390333, 0.50378981, 0.50804032, 0.30071309,\n",
       "       0.41811617, 0.33044997, 0.34251716, 0.45673661, 0.36849447,\n",
       "       0.2951674 , 0.39168585, 0.85455796, 0.24415368])"
      ]
     },
     "execution_count": 178,
     "metadata": {},
     "output_type": "execute_result"
    }
   ],
   "source": [
    "tot_usage_mb_norm_1 = mnp_flag_1['tot_usage_mb']  / mnp_flag_1['tot_usage_mb'].abs().max() # normalized tot_usage_mb\n",
    "total_sum_duration_norm_1 = mnp_flag_1['total_sum_duration']  / mnp_flag_1['total_sum_duration'].abs().max() # normalized total_sum_duration\n",
    "engagement_1 = tot_usage_mb_norm_1 + total_sum_duration_norm_1\n",
    "engagement_1.to_numpy()\n",
    "tot_usage_mb_norm_0 = mnp_flag_0['tot_usage_mb']  / mnp_flag_0['tot_usage_mb'].abs().max() # normalized tot_usage_mb\n",
    "total_sum_duration_norm_0 = mnp_flag_0['total_sum_duration']  / mnp_flag_0['total_sum_duration'].abs().max() # normalized total_sum_duration\n",
    "engagement_0 = tot_usage_mb_norm_0 + total_sum_duration_norm_0\n",
    "engagement_0.to_numpy()"
   ]
  },
  {
   "cell_type": "code",
   "execution_count": 299,
   "id": "ca15bfd6",
   "metadata": {},
   "outputs": [],
   "source": [
    "engagement_0_var = np.var(engagement_0)\n",
    "engagement_1_var = np.var(engagement_1)\n",
    "engagement_1_mean = np.mean(engagement_1)\n",
    "engagement_0_mean = np.mean(engagement_0)\n",
    "N1_c = engagement_1.count()\n",
    "N0_c = engagement_0.count()\n",
    "alpha = 0.05\n",
    "nu = N0+N1-2 # Degree of freedom"
   ]
  },
  {
   "cell_type": "code",
   "execution_count": 300,
   "id": "0011146b",
   "metadata": {},
   "outputs": [],
   "source": [
    "var_ratio = committed_complement_var/committed_var\n",
    "# since the var_ratio is less than 4, therefore the below formula can be applied directly\n",
    "T_value_c = (engagement_1_mean-engagement_0_mean)/((engagement_0_var/N0_c)+(engagement_1_var/N1_c))**0.5\n",
    "t = stats.t.ppf(1-alpha, nu)"
   ]
  },
  {
   "cell_type": "code",
   "execution_count": 301,
   "id": "6fcc28d9",
   "metadata": {},
   "outputs": [
    {
     "name": "stdout",
     "output_type": "stream",
     "text": [
      "Null Hypothesis is rejected\n"
     ]
    }
   ],
   "source": [
    "if T_value_c > t:\n",
    "    print ('Null Hypothesis is rejected')\n",
    "else:\n",
    "    print ('Fail to reject Null Hypothesis')"
   ]
  },
  {
   "cell_type": "markdown",
   "id": "7e21d325",
   "metadata": {},
   "source": [
    "After conducting the Hypothesis test (two sample t-test) it is observed that the customers who have come into UlweTel from other service providers after porting their numbers tend to use more mobile data."
   ]
  },
  {
   "cell_type": "markdown",
   "id": "6d8d87e9",
   "metadata": {},
   "source": [
    "**Q2) (d) Promotional schemes at the time of activation are assoicated with the engagement of the customers and thus their timely recharge or recharge delay.**"
   ]
  },
  {
   "cell_type": "markdown",
   "id": "57ff2207",
   "metadata": {},
   "source": [
    "The column name mentioned for required data is not present"
   ]
  },
  {
   "cell_type": "markdown",
   "id": "a2a1ec8a",
   "metadata": {},
   "source": [
    "**Q2) (e) Customers with better experience recharge earlier than the rest.**"
   ]
  },
  {
   "cell_type": "markdown",
   "id": "18126ad0",
   "metadata": {},
   "source": [
    "The question can be divided into two parts:\\\n",
    "**Part-1**\\\n",
    "Null Hypothesis: Customers with less percentage of dropped calls (lesser than the sample mean) recharge at the same time as rest.\\\n",
    "Null Hypothesis: mean of recharge time of less dropped calls = mean of recharge time of more dropped calls\\\n",
    "Alternate Hypothesis: Customers with less percentage of dropped calls recharge earlier than the rest.\\\n",
    "Alternate Hypothesis: mean of recharge time of more dropped calls > mean of recharge time of less dropped calls"
   ]
  },
  {
   "cell_type": "code",
   "execution_count": 319,
   "id": "fb193fac",
   "metadata": {},
   "outputs": [],
   "source": [
    "good_implicit_experience = df [ df['pcnt_dropped_calls'] < df['pcnt_dropped_calls'].mean()]\n",
    "worse_implicit_experience = df [ df['pcnt_dropped_calls'] > df['pcnt_dropped_calls'].mean()]"
   ]
  },
  {
   "cell_type": "code",
   "execution_count": 332,
   "id": "b14a4dde",
   "metadata": {},
   "outputs": [],
   "source": [
    "worse_implicit_experience_var = variance(worse_implicit_experience,'avg_days_bw_rchg_and_expiry')\n",
    "good_implicit_experience_var = variance(good_implicit_experience,'avg_days_bw_rchg_and_expiry')\n",
    "good_implicit_experience_mean = mean(good_implicit_experience,'avg_days_bw_rchg_and_expiry')\n",
    "worse_implicit_experience_mean = mean(worse_implicit_experience,'avg_days_bw_rchg_and_expiry')\n",
    "N1_e1 = good_implicit_experience['avg_days_bw_rchg_and_expiry'].count()\n",
    "N0_e1 = worse_implicit_experience['avg_days_bw_rchg_and_expiry'].count()\n",
    "alpha = 0.05\n",
    "nu = N0_e1+N1_e1-2 # Degree of freedom"
   ]
  },
  {
   "cell_type": "code",
   "execution_count": 333,
   "id": "5e7b9668",
   "metadata": {},
   "outputs": [],
   "source": [
    "var_ratio = worse_implicit_experience_var/good_implicit_experience_var\n",
    "# since the var_ratio is less than 4, therefore the below formula can be applied directly\n",
    "T_value_e = (worse_implicit_experience_mean-good_implicit_experience_mean)/((worse_implicit_experience_var/N0_e1)+(good_implicit_experience_var/N1_e1))**0.5\n",
    "t = stats.t.ppf(1-alpha, nu)"
   ]
  },
  {
   "cell_type": "code",
   "execution_count": 329,
   "id": "8ed7035e",
   "metadata": {},
   "outputs": [
    {
     "name": "stdout",
     "output_type": "stream",
     "text": [
      "Null Hypothesis is rejected\n"
     ]
    }
   ],
   "source": [
    "if T_value_c > t:\n",
    "    print ('Null Hypothesis is rejected')\n",
    "else:\n",
    "    print ('Fail to reject Null Hypothesis')"
   ]
  },
  {
   "cell_type": "markdown",
   "id": "a4c81b70",
   "metadata": {},
   "source": [
    "From the hypothesis test it can be concluded that the customers with less percentage of dropped calls recharge earlier than the rest"
   ]
  },
  {
   "cell_type": "markdown",
   "id": "bf63ce34",
   "metadata": {},
   "source": [
    "**Part-2**\\\n",
    "Null Hypothesis: Customers with less count of open queries/requests/complaints (lesser than the sample mean) recharge at the same time as rest.\\\n",
    "Null Hypothesis: mean of recharge time of less open queries = mean of recharge time of more open queries\\\n",
    "Alternate Hypothesis: Customers with less count of open queries/requests/complaints recharge earlier than the rest.\\\n",
    "Alternate Hypothesis: mean of recharge time of more open queries > mean of recharge time of less open queries"
   ]
  },
  {
   "cell_type": "code",
   "execution_count": 323,
   "id": "1d172f48",
   "metadata": {},
   "outputs": [],
   "source": [
    "good_explicit_experience = df [ df['cnt_open_qrc'] < df['cnt_open_qrc'].mean()]\n",
    "worse_explicit_experience = df [ df['cnt_open_qrc'] > df['cnt_open_qrc'].mean()]"
   ]
  },
  {
   "cell_type": "code",
   "execution_count": 331,
   "id": "d5b72d8b",
   "metadata": {},
   "outputs": [],
   "source": [
    "worse_explicit_experience_var = variance(worse_explicit_experience,'avg_days_bw_rchg_and_expiry')\n",
    "good_explicit_experience_var = variance(good_explicit_experience,'avg_days_bw_rchg_and_expiry')\n",
    "good_explicit_experience_mean = mean(good_explicit_experience,'avg_days_bw_rchg_and_expiry')\n",
    "worse_explicit_experience_mean = mean(worse_explicit_experience,'avg_days_bw_rchg_and_expiry')\n",
    "N1_e2 = good_explicit_experience['avg_days_bw_rchg_and_expiry'].count()\n",
    "N0_e2 = worse_explicit_experience['avg_days_bw_rchg_and_expiry'].count()\n",
    "alpha = 0.05\n",
    "nu = N0_e2+N1_e2-2 # Degree of freedom"
   ]
  },
  {
   "cell_type": "code",
   "execution_count": 334,
   "id": "9ef13199",
   "metadata": {},
   "outputs": [],
   "source": [
    "var_ratio = worse_explicit_experience_var/good_explicit_experience_var\n",
    "# since the var_ratio is less than 4, therefore the below formula can be applied directly\n",
    "T_value_e = (worse_explicit_experience_mean-good_explicit_experience_mean)/((worse_explicit_experience_var/N0_e2)+(good_explicit_experience_var/N1_e2))**0.5\n",
    "t = stats.t.ppf(1-alpha, nu)"
   ]
  },
  {
   "cell_type": "code",
   "execution_count": 335,
   "id": "36b4d799",
   "metadata": {},
   "outputs": [
    {
     "name": "stdout",
     "output_type": "stream",
     "text": [
      "Null Hypothesis is rejected\n"
     ]
    }
   ],
   "source": [
    "if T_value_c > t:\n",
    "    print ('Null Hypothesis is rejected')\n",
    "else:\n",
    "    print ('Fail to reject Null Hypothesis')"
   ]
  },
  {
   "cell_type": "markdown",
   "id": "09ec2c71",
   "metadata": {},
   "source": [
    "From the hypothesis test it can be concluded that the Customers with less count of open queries/requests/complaints recharge earlier than the rest."
   ]
  },
  {
   "cell_type": "markdown",
   "id": "48af7bed",
   "metadata": {},
   "source": [
    "**Q2) (f) Customers who complain are associated with having poor implicit network experience.**"
   ]
  },
  {
   "cell_type": "markdown",
   "id": "87fb2e5e",
   "metadata": {},
   "source": [
    "Null Hypothesis: There is no associaton between poor explicit experience and poor implicit network experience\\\n",
    "Alternate Hypothesis: Poor explicit experience and Poor implicit network experience are associated"
   ]
  },
  {
   "cell_type": "code",
   "execution_count": 343,
   "id": "91ebf952",
   "metadata": {},
   "outputs": [],
   "source": [
    "# Defining table with customers having only poor explicit experience\n",
    "poor_explicit_experience = df [ df ['cnt_open_qrc'] > (df ['cnt_open_qrc']).mean()]"
   ]
  },
  {
   "cell_type": "code",
   "execution_count": 344,
   "id": "30866d73",
   "metadata": {},
   "outputs": [],
   "source": [
    "# Definig all the test parameters which are related to network coverage\n",
    "test_1=poor_explicit_experience['pcnt_dropped_calls']\n",
    "test_2=poor_explicit_experience['rsrp_voice_pcnt_poor_duration']\n",
    "test_3=poor_explicit_experience['rsrp_data_pcnt_poor_duration']\n",
    "test_4=poor_explicit_experience['mean_cqi_voice_pcnt_poor_duration']\n",
    "test_5=poor_explicit_experience['sinr_voice_pcnt_poor_duration']\n",
    "test_6=poor_explicit_experience['sinr_data_pcnt_poor_duration']"
   ]
  },
  {
   "cell_type": "code",
   "execution_count": 347,
   "id": "b6826b9b",
   "metadata": {},
   "outputs": [
    {
     "name": "stdout",
     "output_type": "stream",
     "text": [
      "stats_value =  253.77097806617826      p_value =  2.966964957378895e-220\n"
     ]
    }
   ],
   "source": [
    "#  Performing one way ANOVA test\n",
    "stats_value,p_value=stats.f_oneway(test_1,test_2,test_3,test_4,test_5,test_6)\n",
    "print('stats_value = ',stats_value,'     p_value = ',p_value)"
   ]
  },
  {
   "cell_type": "code",
   "execution_count": 346,
   "id": "cf0807ff",
   "metadata": {},
   "outputs": [
    {
     "name": "stdout",
     "output_type": "stream",
     "text": [
      "Null Hypothesis is rejected\n"
     ]
    }
   ],
   "source": [
    "if p_value < 0.05:\n",
    "    print('Null Hypothesis is rejected')\n",
    "else:\n",
    "    print('Fail to reject Null Hypothesis')"
   ]
  },
  {
   "cell_type": "markdown",
   "id": "42d7383c",
   "metadata": {},
   "source": [
    "From the Hypothesis test (one way ANOVA test) it can be observed that Poor explicit experience and Poor implicit network experience are associated."
   ]
  },
  {
   "cell_type": "markdown",
   "id": "3df69fc8",
   "metadata": {},
   "source": [
    "**Q3) (a) One of the main interests of the company is to predict the recharge delay of each customer, that is on which day before or after the plan expiration the customer will do their next recharge, based on historical data. Ghansoli Raja has asked you to deliver a report based on model for such predictive effort, given your acclaimed expertise on the field.**"
   ]
  },
  {
   "cell_type": "code",
   "execution_count": 351,
   "id": "13d9080b",
   "metadata": {},
   "outputs": [
    {
     "name": "stdout",
     "output_type": "stream",
     "text": [
      "9.355643320689882\n",
      "[ 3.85223262e+00 -1.01715574e-01 -2.36035998e+01 -1.97440295e+01\n",
      "  8.11068570e-01  2.90736863e+00 -2.48074160e+00 -9.30843079e+00\n",
      "  6.07763058e+00  3.43100368e+00 -1.89937198e-01  3.05111263e-01\n",
      "  9.09462382e-01  7.28467278e-01  7.28467278e-01  3.38333057e+00\n",
      "  1.91499220e+00  1.91499220e+00 -8.19163660e+00 -8.03466537e+00\n",
      "  4.14943401e-02 -7.29824860e-01 -7.29824860e-01  2.36715895e-03\n",
      "  2.36715895e-03 -1.05104772e+00 -1.05104772e+00  8.09006347e-01\n",
      " -2.29347593e+00 -6.31407003e-01 -2.46097185e-01  1.62916759e+01\n",
      " -1.55261688e+01  8.82581793e-01 -1.38721200e-01 -1.54689406e-01\n",
      "  1.45401519e+01 -1.48421992e+00 -3.61737527e+00 -2.95407070e+01]\n"
     ]
    }
   ],
   "source": [
    "df_co = df.copy() # Creating a copy of the dataframe\n",
    "df_copy = df_co.dropna() # Eliminating entries with null values\n",
    "df_rech_delay = df_copy.recharge_delay\n",
    "# fetching all the columns on which the value may depend\n",
    "X = df_copy[['activation_plan_code', 'mnp_flag', 'calls_incoming_cnt', 'calls_outgoing_cnt', 'calls_incoming_duration', 'calls_outgoing_duration', 'upload_usage_mb', 'download_usage_mb', 'days_since_latch', 'cnt_open_qrc', 'avg_days_to_close', 'cnt_call_drops', 'pcnt_dropped_calls', 'rsrp_voice_pcnt_poor_duration', 'rsrp_data_pcnt_poor_duration', 'mean_cqi_voice_pcnt_poor_duration', 'sinr_voice_pcnt_poor_duration', 'sinr_data_pcnt_poor_duration', 'age_on_network', 'cnt_connections', 'current_plan_code', 'cnt_recharges_made', 'total_payment_made', 'cnt_main_plans_taken', 'total_main_plans_mrp', 'cnt_addon_plans_taken', 'total_addon_plans_mrp', 'cnt_rchg_offline', 'cnt_rchg_online', 'cnt_rchg_on_or_before_expiry', 'cnt_rchg_after_expiry', 'current_active_plan_mrp', 'current_active_plan_validity', 'last_cycle_plan_mrp', 'last_cycle_plan_validity', 'avg_days_bw_rchg_and_expiry', 'stddev_days_bw_rchg_and_expiry', 'price_per_day', 'gb_per_day_quota', 'pcnt_quota_used']]\n",
    "X_train,X_test,y_train,y_test=train_test_split(X ,df_rech_delay, test_size=0.2, random_state=1212)\n",
    "# here test data is 20% and training data is 80%\n",
    "scaler=MinMaxScaler()\n",
    "X_train_sc=pd.DataFrame(scaler.fit_transform(X_train),columns=X_train.columns)\n",
    "X_test_sc=pd.DataFrame(scaler.transform(X_test),columns=X_test.columns)\n",
    "regressor = LinearRegression()\n",
    "print(regressor.fit(X_train_sc, y_train).intercept_)\n",
    "print(regressor.fit(X_train_sc, y_train).coef_)"
   ]
  },
  {
   "cell_type": "code",
   "execution_count": 352,
   "id": "8547f999",
   "metadata": {},
   "outputs": [
    {
     "name": "stdout",
     "output_type": "stream",
     "text": [
      "3.3676189483198717\n"
     ]
    }
   ],
   "source": [
    "y_prediction = regressor.predict(X_test_sc)\n",
    "RMSE = sqrt(mean_squared_error(y_true = y_test, y_pred = y_prediction))\n",
    "print(RMSE)"
   ]
  },
  {
   "cell_type": "code",
   "execution_count": 354,
   "id": "8aac8fb6",
   "metadata": {},
   "outputs": [
    {
     "data": {
      "image/png": "[encoded data removed]",
      "text/plain": [
       "<Figure size 432x288 with 1 Axes>"
      ]
     },
     "metadata": {
      "needs_background": "light"
     },
     "output_type": "display_data"
    }
   ],
   "source": [
    "plt.scatter(y_test, regressor.predict(X_test_sc))\n",
    "straight_line = np.arange(0, 50)\n",
    "plt.plot(straight_line, straight_line)\n",
    "plt.title(\"Fitted Values\")\n",
    "plt.show()"
   ]
  },
  {
   "cell_type": "markdown",
   "id": "7f56ba73",
   "metadata": {},
   "source": [
    "**Q3) (b) Redoing the analysis considering only some set of features from the original dataset.**"
   ]
  },
  {
   "cell_type": "code",
   "execution_count": 355,
   "id": "79186836",
   "metadata": {},
   "outputs": [
    {
     "name": "stdout",
     "output_type": "stream",
     "text": [
      "12.209992391668296\n",
      "[ -2.03342388   6.44103609  -3.07774446 -19.59733516 -21.38585934\n",
      "   3.49971686   0.93187323   1.79519627   1.79519627 -65.5145788\n",
      "  -8.6825038   23.40844062  20.89979964  17.91222538  19.24766271\n",
      "  -1.64561524   1.7587904    0.34308519]\n"
     ]
    }
   ],
   "source": [
    "# fetching only selected columns on which the value may depend\n",
    "X = df_copy[['calls_incoming_duration', 'calls_outgoing_duration', 'upload_usage_mb', 'download_usage_mb', 'days_since_latch', 'cnt_open_qrc', 'pcnt_dropped_calls', 'sinr_voice_pcnt_poor_duration', 'sinr_data_pcnt_poor_duration', 'age_on_network', 'cnt_connections', 'cnt_main_plans_taken', 'cnt_addon_plans_taken', 'cnt_rchg_on_or_before_expiry', 'cnt_rchg_after_expiry', 'current_active_plan_mrp', 'current_active_plan_validity', 'avg_days_bw_rchg_and_expiry']]\n",
    "X_train,X_test,y_train,y_test = train_test_split(X, df_rech_delay, test_size=0.2, random_state=1212)\n",
    "# here test data is 20% and training data is 80%\n",
    "scaler=MinMaxScaler()\n",
    "X_train_sc=pd.DataFrame(scaler.fit_transform(X_train),columns=X_train.columns)\n",
    "X_test_sc=pd.DataFrame(scaler.transform(X_test),columns=X_test.columns)\n",
    "regressor = LinearRegression()\n",
    "print(regressor.fit(X_train_sc, y_train).intercept_)\n",
    "print(regressor.fit(X_train_sc, y_train).coef_)"
   ]
  },
  {
   "cell_type": "code",
   "execution_count": 356,
   "id": "381b5c79",
   "metadata": {},
   "outputs": [
    {
     "name": "stdout",
     "output_type": "stream",
     "text": [
      "4.021823926903521\n"
     ]
    }
   ],
   "source": [
    "y_prediction = regressor.predict(X_test_sc)\n",
    "RMSE = sqrt(mean_squared_error(y_true = y_test, y_pred = y_prediction))\n",
    "print(RMSE)"
   ]
  },
  {
   "cell_type": "code",
   "execution_count": 357,
   "id": "70f2f039",
   "metadata": {},
   "outputs": [
    {
     "data": {
      "image/png": "[encoded data removed]",
      "text/plain": [
       "<Figure size 432x288 with 1 Axes>"
      ]
     },
     "metadata": {
      "needs_background": "light"
     },
     "output_type": "display_data"
    }
   ],
   "source": [
    "plt.scatter(y_test, regressor.predict(X_test_sc))\n",
    "straight_line = np.arange(0, 60)\n",
    "plt.plot(straight_line, straight_line)\n",
    "plt.title(\"Fitted Values\")\n",
    "plt.show()"
   ]
  },
  {
   "cell_type": "markdown",
   "id": "4af670db",
   "metadata": {},
   "source": [
    "**After redoing the analysis it can be concluded that the value of the parameter (recharge delay) does not get affected much (as the value of root mean square error remains comparable in both parts 3(a) and 3(b) by a lot of parameter which we considered in our analysis in the first part, making those parameters redundant for our analysis.**"
   ]
  },
  {
   "cell_type": "markdown",
   "id": "0527bec7",
   "metadata": {},
   "source": [
    "**Q4) (a) Build a model to identify the customers who are going to churn based on historical data.**"
   ]
  },
  {
   "cell_type": "code",
   "execution_count": 387,
   "id": "ac2685d2",
   "metadata": {},
   "outputs": [
    {
     "name": "stdout",
     "output_type": "stream",
     "text": [
      "<class 'pandas.core.frame.DataFrame'>\n",
      "Int64Index: 977 entries, 0 to 999\n",
      "Data columns (total 49 columns):\n",
      " #   Column                             Non-Null Count  Dtype  \n",
      "---  ------                             --------------  -----  \n",
      " 0   customer_id                        977 non-null    int64  \n",
      " 1   ownership                          977 non-null    object \n",
      " 2   activation_plan_code               977 non-null    int64  \n",
      " 3   mnp_flag                           977 non-null    int64  \n",
      " 4   calls_incoming_cnt                 977 non-null    float64\n",
      " 5   calls_outgoing_cnt                 977 non-null    float64\n",
      " 6   calls_incoming_duration            977 non-null    float64\n",
      " 7   calls_outgoing_duration            977 non-null    float64\n",
      " 8   total_call_count                   977 non-null    float64\n",
      " 9   total_sum_duration                 977 non-null    float64\n",
      " 10  tot_usage_mb                       977 non-null    float64\n",
      " 11  upload_usage_mb                    977 non-null    float64\n",
      " 12  download_usage_mb                  977 non-null    float64\n",
      " 13  days_since_latch                   977 non-null    int64  \n",
      " 14  cnt_open_qrc                       977 non-null    int64  \n",
      " 15  avg_days_to_close                  977 non-null    float64\n",
      " 16  cnt_call_drops                     977 non-null    float64\n",
      " 17  pcnt_dropped_calls                 977 non-null    float64\n",
      " 18  rsrp_voice_pcnt_poor_duration      977 non-null    float64\n",
      " 19  rsrp_data_pcnt_poor_duration       977 non-null    float64\n",
      " 20  mean_cqi_voice_pcnt_poor_duration  977 non-null    float64\n",
      " 21  sinr_voice_pcnt_poor_duration      977 non-null    float64\n",
      " 22  sinr_data_pcnt_poor_duration       977 non-null    float64\n",
      " 23  age_on_network                     977 non-null    int64  \n",
      " 24  cnt_connections                    977 non-null    int64  \n",
      " 25  current_plan_code                  977 non-null    int64  \n",
      " 26  cnt_recharges_made                 977 non-null    int64  \n",
      " 27  total_payment_made                 977 non-null    float64\n",
      " 28  cnt_main_plans_taken               977 non-null    int64  \n",
      " 29  total_main_plans_mrp               977 non-null    float64\n",
      " 30  cnt_addon_plans_taken              977 non-null    int64  \n",
      " 31  total_addon_plans_mrp              977 non-null    float64\n",
      " 32  cnt_rchg_offline                   977 non-null    int64  \n",
      " 33  cnt_rchg_online                    977 non-null    int64  \n",
      " 34  cnt_rchg_on_or_before_expiry       977 non-null    float64\n",
      " 35  cnt_rchg_after_expiry              977 non-null    float64\n",
      " 36  current_active_plan_mrp            977 non-null    int64  \n",
      " 37  current_active_plan_validity       977 non-null    int64  \n",
      " 38  last_cycle_plan_mrp                977 non-null    int64  \n",
      " 39  last_cycle_plan_validity           977 non-null    int64  \n",
      " 40  avg_days_bw_rchg_and_expiry        977 non-null    float64\n",
      " 41  stddev_days_bw_rchg_and_expiry     977 non-null    float64\n",
      " 42  price_per_day                      977 non-null    float64\n",
      " 43  gb_per_day_quota                   977 non-null    float64\n",
      " 44  pcnt_quota_used                    977 non-null    float64\n",
      " 45  device_avg_asp                     977 non-null    object \n",
      " 46  recharge_delay                     977 non-null    float64\n",
      " 47  default                            977 non-null    int64  \n",
      " 48  df_d                               977 non-null    int64  \n",
      "dtypes: float64(28), int64(19), object(2)\n",
      "memory usage: 381.6+ KB\n"
     ]
    },
    {
     "name": "stderr",
     "output_type": "stream",
     "text": [
      "/var/folders/8w/gj9s1syx5tb49zt9k6gz5fw00000gn/T/ipykernel_2234/529878008.py:2: SettingWithCopyWarning: \n",
      "A value is trying to be set on a copy of a slice from a DataFrame.\n",
      "Try using .loc[row_indexer,col_indexer] = value instead\n",
      "\n",
      "See the caveats in the documentation: https://pandas.pydata.org/pandas-docs/stable/user_guide/indexing.html#returning-a-view-versus-a-copy\n",
      "  df_copy['df_d'] = df_copy['recharge_delay']\n",
      "/var/folders/8w/gj9s1syx5tb49zt9k6gz5fw00000gn/T/ipykernel_2234/529878008.py:3: SettingWithCopyWarning: \n",
      "A value is trying to be set on a copy of a slice from a DataFrame.\n",
      "Try using .loc[row_indexer,col_indexer] = value instead\n",
      "\n",
      "See the caveats in the documentation: https://pandas.pydata.org/pandas-docs/stable/user_guide/indexing.html#returning-a-view-versus-a-copy\n",
      "  df_copy['df_d'] = df_copy['df_d'].apply(lambda x: 1 if x >= churn_value else 0)\n"
     ]
    }
   ],
   "source": [
    "churn_value = 13 # As formulated earlier\n",
    "df_copy['df_d'] = df_copy['recharge_delay']\n",
    "df_copy['df_d'] = df_copy['df_d'].apply(lambda x: 1 if x >= churn_value else 0)\n",
    "df_copy.info() # to get the overview of the data"
   ]
  },
  {
   "cell_type": "code",
   "execution_count": 384,
   "id": "1738cf03",
   "metadata": {},
   "outputs": [],
   "source": [
    "X = df_copy[['customer_id', 'activation_plan_code', 'mnp_flag', 'calls_incoming_cnt', 'calls_outgoing_cnt', 'calls_incoming_duration', 'calls_outgoing_duration', 'total_call_count', 'total_sum_duration', 'tot_usage_mb', 'upload_usage_mb', 'download_usage_mb', 'days_since_latch', 'cnt_open_qrc', 'avg_days_to_close', 'cnt_call_drops', 'pcnt_dropped_calls', 'rsrp_voice_pcnt_poor_duration', 'rsrp_data_pcnt_poor_duration', 'mean_cqi_voice_pcnt_poor_duration', 'sinr_voice_pcnt_poor_duration', 'sinr_data_pcnt_poor_duration', 'age_on_network', 'cnt_connections', 'current_plan_code', 'cnt_recharges_made', 'total_payment_made', 'cnt_main_plans_taken', 'total_main_plans_mrp', 'cnt_addon_plans_taken', 'total_addon_plans_mrp', 'cnt_rchg_offline', 'cnt_rchg_online', 'cnt_rchg_on_or_before_expiry', 'cnt_rchg_after_expiry', 'current_active_plan_mrp', 'current_active_plan_validity', 'last_cycle_plan_mrp', 'last_cycle_plan_validity', 'avg_days_bw_rchg_and_expiry', 'stddev_days_bw_rchg_and_expiry', 'price_per_day', 'gb_per_day_quota', 'pcnt_quota_used']]\n",
    "X = sm.add_constant(X)\n",
    "Y = df_copy['df_d']"
   ]
  },
  {
   "cell_type": "code",
   "execution_count": 388,
   "id": "e8a39186",
   "metadata": {},
   "outputs": [],
   "source": [
    "train_X, test_X, train_Y, test_Y = train_test_split(X, Y, train_size = 0.80, random_state =1212)"
   ]
  },
  {
   "cell_type": "code",
   "execution_count": 389,
   "id": "b2d27ede",
   "metadata": {},
   "outputs": [
    {
     "name": "stdout",
     "output_type": "stream",
     "text": [
      "Warning: Maximum number of iterations has been exceeded.\n",
      "         Current function value: 0.088133\n",
      "         Iterations: 35\n",
      "                           Logit Regression Results                           \n",
      "==============================================================================\n",
      "Dep. Variable:                   df_d   No. Observations:                  781\n",
      "Model:                          Logit   Df Residuals:                      740\n",
      "Method:                           MLE   Df Model:                           40\n",
      "Date:                Tue, 30 Aug 2022   Pseudo R-squ.:                  0.4847\n",
      "Time:                        23:46:19   Log-Likelihood:                -68.832\n",
      "converged:                      False   LL-Null:                       -133.57\n",
      "Covariance Type:            nonrobust   LLR p-value:                 2.283e-11\n",
      "=====================================================================================================\n",
      "                                        coef    std err          z      P>|z|      [0.025      0.975]\n",
      "-----------------------------------------------------------------------------------------------------\n",
      "const                                 0.1449     10.986      0.013      0.989     -21.388      21.678\n",
      "customer_id                           0.0002      0.001      0.262      0.793      -0.001       0.002\n",
      "activation_plan_code                  0.9291      0.179      5.178      0.000       0.577       1.281\n",
      "mnp_flag                             -1.8664      0.983     -1.898      0.058      -3.793       0.061\n",
      "calls_incoming_cnt                   -0.0074   2.92e+04  -2.54e-07      1.000   -5.71e+04    5.71e+04\n",
      "calls_outgoing_cnt                    0.0058   2.92e+04   1.99e-07      1.000   -5.72e+04    5.72e+04\n",
      "calls_incoming_duration              -0.0042        nan        nan        nan         nan         nan\n",
      "calls_outgoing_duration              -0.0059        nan        nan        nan         nan         nan\n",
      "total_call_count                     -0.0008   2.92e+04  -2.85e-08      1.000   -5.71e+04    5.71e+04\n",
      "total_sum_duration                   -0.0124        nan        nan        nan         nan         nan\n",
      "tot_usage_mb                         -0.0035        nan        nan        nan         nan         nan\n",
      "upload_usage_mb                       0.0032        nan        nan        nan         nan         nan\n",
      "download_usage_mb                     0.0036        nan        nan        nan         nan         nan\n",
      "days_since_latch                      0.0151      0.637      0.024      0.981      -1.233       1.263\n",
      "cnt_open_qrc                          0.0561      0.125      0.449      0.654      -0.189       0.301\n",
      "avg_days_to_close                    -0.0683      0.082     -0.833      0.405      -0.229       0.092\n",
      "cnt_call_drops                        0.3920      0.266      1.473      0.141      -0.130       0.914\n",
      "pcnt_dropped_calls                   -0.6843      0.317     -2.158      0.031      -1.306      -0.063\n",
      "rsrp_voice_pcnt_poor_duration         0.0008        nan        nan        nan         nan         nan\n",
      "rsrp_data_pcnt_poor_duration          0.0005        nan        nan        nan         nan         nan\n",
      "mean_cqi_voice_pcnt_poor_duration     0.0019      0.009      0.205      0.837      -0.016       0.020\n",
      "sinr_voice_pcnt_poor_duration         0.0052        nan        nan        nan         nan         nan\n",
      "sinr_data_pcnt_poor_duration          0.0054        nan        nan        nan         nan         nan\n",
      "age_on_network                       -0.1376      0.098     -1.411      0.158      -0.329       0.054\n",
      "cnt_connections                      -0.3094      0.120     -2.570      0.010      -0.545      -0.073\n",
      "current_plan_code                    -0.0069      0.080     -0.086      0.931      -0.164       0.150\n",
      "cnt_recharges_made                -5.346e-05        nan        nan        nan         nan         nan\n",
      "total_payment_made                    0.0062        nan        nan        nan         nan         nan\n",
      "cnt_main_plans_taken                  0.0005        nan        nan        nan         nan         nan\n",
      "total_main_plans_mrp                  0.0155   2605.941   5.95e-06      1.000   -5107.535    5107.566\n",
      "cnt_addon_plans_taken             -5.175e-06    8.3e+04  -6.23e-11      1.000   -1.63e+05    1.63e+05\n",
      "total_addon_plans_mrp                 0.0149        nan        nan        nan         nan         nan\n",
      "cnt_rchg_offline                     -0.0070        nan        nan        nan         nan         nan\n",
      "cnt_rchg_online                       0.0076        nan        nan        nan         nan         nan\n",
      "cnt_rchg_on_or_before_expiry         -0.0024   1.38e+05  -1.72e-08      1.000   -2.69e+05    2.69e+05\n",
      "cnt_rchg_after_expiry                 0.0025   1.38e+05   1.85e-08      1.000   -2.69e+05    2.69e+05\n",
      "current_active_plan_mrp               0.0146      0.008      1.803      0.071      -0.001       0.030\n",
      "current_active_plan_validity         -0.0506      0.031     -1.654      0.098      -0.111       0.009\n",
      "last_cycle_plan_mrp                  -0.0024      0.003     -0.894      0.371      -0.008       0.003\n",
      "last_cycle_plan_validity              0.0094      0.012      0.779      0.436      -0.014       0.033\n",
      "avg_days_bw_rchg_and_expiry          -0.0437      0.107     -0.409      0.683      -0.253       0.166\n",
      "stddev_days_bw_rchg_and_expiry        0.2948      0.070      4.233      0.000       0.158       0.431\n",
      "price_per_day                        -1.0112      0.654     -1.547      0.122      -2.292       0.270\n",
      "gb_per_day_quota                     -3.6990      1.285     -2.879      0.004      -6.217      -1.181\n",
      "pcnt_quota_used                      -0.1238      0.052     -2.396      0.017      -0.225      -0.023\n",
      "=====================================================================================================\n",
      "\n",
      "Possibly complete quasi-separation: A fraction 0.30 of observations can be\n",
      "perfectly predicted. This might indicate that there is complete\n",
      "quasi-separation. In this case some parameters will not be identified.\n"
     ]
    },
    {
     "name": "stderr",
     "output_type": "stream",
     "text": [
      "/Users/lakshyasoni/opt/anaconda3/lib/python3.9/site-packages/statsmodels/base/model.py:604: ConvergenceWarning: Maximum Likelihood optimization failed to converge. Check mle_retvals\n",
      "  warnings.warn(\"Maximum Likelihood optimization failed to \"\n"
     ]
    }
   ],
   "source": [
    "scaler = StandardScaler()\n",
    "train_scaled_columns  = scaler.fit_transform(train_X)\n",
    "log_reg = sm.Logit(train_Y, train_X).fit()\n",
    "print(log_reg.summary())"
   ]
  },
  {
   "cell_type": "markdown",
   "id": "b8e00771",
   "metadata": {},
   "source": [
    "**Q4) (b) Build a model to identify the customers who are going to churn based on historical data with important predictors only.**"
   ]
  },
  {
   "cell_type": "code",
   "execution_count": 390,
   "id": "030471e2",
   "metadata": {},
   "outputs": [],
   "source": [
    "X = df_copy[['customer_id', 'activation_plan_code', 'mnp_flag', 'calls_incoming_duration', 'calls_outgoing_duration', 'upload_usage_mb', 'download_usage_mb', 'days_since_latch', 'cnt_open_qrc', 'pcnt_dropped_calls', 'rsrp_voice_pcnt_poor_duration', 'rsrp_data_pcnt_poor_duration', 'mean_cqi_voice_pcnt_poor_duration', 'sinr_voice_pcnt_poor_duration', 'sinr_data_pcnt_poor_duration', 'age_on_network', 'cnt_connections', 'current_plan_code', 'cnt_recharges_made', 'total_payment_made', 'cnt_main_plans_taken', 'total_main_plans_mrp', 'cnt_rchg_on_or_before_expiry', 'cnt_rchg_after_expiry', 'current_active_plan_validity', 'avg_days_bw_rchg_and_expiry', 'pcnt_quota_used']]\n",
    "X = sm.add_constant(X)\n",
    "Y = df_copy['df_d']"
   ]
  },
  {
   "cell_type": "code",
   "execution_count": 391,
   "id": "8c5e522a",
   "metadata": {},
   "outputs": [],
   "source": [
    "train_X, test_X, train_Y, test_Y = train_test_split(X, Y, train_size = 0.80, random_state =1212)"
   ]
  },
  {
   "cell_type": "code",
   "execution_count": 392,
   "id": "be3f463c",
   "metadata": {},
   "outputs": [
    {
     "name": "stdout",
     "output_type": "stream",
     "text": [
      "Warning: Maximum number of iterations has been exceeded.\n",
      "         Current function value: 0.106569\n",
      "         Iterations: 35\n",
      "                           Logit Regression Results                           \n",
      "==============================================================================\n",
      "Dep. Variable:                   df_d   No. Observations:                  781\n",
      "Model:                          Logit   Df Residuals:                      753\n",
      "Method:                           MLE   Df Model:                           27\n",
      "Date:                Tue, 30 Aug 2022   Pseudo R-squ.:                  0.3769\n",
      "Time:                        23:52:50   Log-Likelihood:                -83.230\n",
      "converged:                      False   LL-Null:                       -133.57\n",
      "Covariance Type:            nonrobust   LLR p-value:                 1.990e-10\n",
      "=====================================================================================================\n",
      "                                        coef    std err          z      P>|z|      [0.025      0.975]\n",
      "-----------------------------------------------------------------------------------------------------\n",
      "const                               -10.8811      8.606     -1.264      0.206     -27.748       5.986\n",
      "customer_id                           0.0004      0.001      0.550      0.582      -0.001       0.002\n",
      "activation_plan_code                  0.7141      0.142      5.024      0.000       0.435       0.993\n",
      "mnp_flag                             -1.5971      0.870     -1.837      0.066      -3.301       0.107\n",
      "calls_incoming_duration              -0.0164      0.009     -1.828      0.068      -0.034       0.001\n",
      "calls_outgoing_duration              -0.0086      0.008     -1.125      0.261      -0.024       0.006\n",
      "upload_usage_mb                      -0.0002      0.000     -0.997      0.319      -0.001       0.000\n",
      "download_usage_mb                 -2.809e-07   4.98e-05     -0.006      0.995   -9.78e-05    9.73e-05\n",
      "days_since_latch                      0.2313      0.220      1.051      0.293      -0.200       0.663\n",
      "cnt_open_qrc                          0.0144      0.113      0.127      0.899      -0.207       0.236\n",
      "pcnt_dropped_calls                   -0.2003      0.162     -1.233      0.218      -0.519       0.118\n",
      "rsrp_voice_pcnt_poor_duration         0.0024        nan        nan        nan         nan         nan\n",
      "rsrp_data_pcnt_poor_duration          0.0023        nan        nan        nan         nan         nan\n",
      "mean_cqi_voice_pcnt_poor_duration     0.0043      0.008      0.538      0.590      -0.011       0.020\n",
      "sinr_voice_pcnt_poor_duration         0.0056        nan        nan        nan         nan         nan\n",
      "sinr_data_pcnt_poor_duration          0.0059        nan        nan        nan         nan         nan\n",
      "age_on_network                       -0.1007      0.085     -1.187      0.235      -0.267       0.066\n",
      "cnt_connections                      -0.3740      0.110     -3.402      0.001      -0.590      -0.159\n",
      "current_plan_code                    -0.0589      0.074     -0.791      0.429      -0.205       0.087\n",
      "cnt_recharges_made                    0.0007   3.71e+05   1.87e-09      1.000   -7.28e+05    7.28e+05\n",
      "total_payment_made                    0.0154   3867.479   3.97e-06      1.000   -7580.104    7580.134\n",
      "cnt_main_plans_taken                 -0.0006   1.99e+05  -2.77e-09      1.000   -3.91e+05    3.91e+05\n",
      "total_main_plans_mrp                  0.0004   3178.696   1.17e-07      1.000   -6230.130    6230.131\n",
      "cnt_rchg_on_or_before_expiry         -0.0024   2.75e+05  -8.68e-09      1.000   -5.38e+05    5.38e+05\n",
      "cnt_rchg_after_expiry                 0.0029   2.75e+05   1.06e-08      1.000   -5.38e+05    5.38e+05\n",
      "current_active_plan_validity         -0.0013      0.001     -1.038      0.299      -0.004       0.001\n",
      "avg_days_bw_rchg_and_expiry          -0.0576      0.082     -0.699      0.485      -0.219       0.104\n",
      "pcnt_quota_used                      -0.0275      0.022     -1.253      0.210      -0.071       0.016\n",
      "=====================================================================================================\n"
     ]
    },
    {
     "name": "stderr",
     "output_type": "stream",
     "text": [
      "/Users/lakshyasoni/opt/anaconda3/lib/python3.9/site-packages/statsmodels/base/model.py:604: ConvergenceWarning: Maximum Likelihood optimization failed to converge. Check mle_retvals\n",
      "  warnings.warn(\"Maximum Likelihood optimization failed to \"\n"
     ]
    }
   ],
   "source": [
    "scaler = StandardScaler()\n",
    "train_scaled_columns  = scaler.fit_transform(train_X)\n",
    "log_reg = sm.Logit(train_Y, train_X).fit()\n",
    "print(log_reg.summary())"
   ]
  },
  {
   "cell_type": "code",
   "execution_count": null,
   "id": "0f18f5e0",
   "metadata": {},
   "outputs": [],
   "source": []
  }
 ],
 "metadata": {
  "kernelspec": {
   "display_name": "Python 3 (ipykernel)",
   "language": "python",
   "name": "python3"
  },
  "language_info": {
   "codemirror_mode": {
    "name": "ipython",
    "version": 3
   },
   "file_extension": ".py",
   "mimetype": "text/x-python",
   "name": "python",
   "nbconvert_exporter": "python",
   "pygments_lexer": "ipython3",
   "version": "3.9.12"
  }
 },
 "nbformat": 4,
 "nbformat_minor": 5
}
